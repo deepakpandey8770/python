{
 "cells": [
  {
   "cell_type": "code",
   "execution_count": 6,
   "metadata": {},
   "outputs": [
    {
     "name": "stdout",
     "output_type": "stream",
     "text": [
      "tomato\n",
      "apple\n",
      "orange\n",
      "tomato\n",
      "apple\n",
      "orange\n"
     ]
    }
   ],
   "source": [
    "def sellingvegitable():\n",
    "    print('tomato')\n",
    "    print('apple')\n",
    "    print('orange')\n",
    "#print(sellingvegitable)#it is printing memory address\n",
    "for i in range(1,3):\n",
    "    sellingvegitable()"
   ]
  },
  {
   "cell_type": "code",
   "execution_count": 8,
   "metadata": {},
   "outputs": [
    {
     "name": "stdout",
     "output_type": "stream",
     "text": [
      "1 is not a prime number\n",
      "2 is prime number\n",
      "3 is prime number\n",
      "4 not a prime\n",
      "5 is prime number\n",
      "6 not a prime\n",
      "7 is prime number\n"
     ]
    }
   ],
   "source": [
    "#wap to print given number is prime number or not by using functions\n",
    "def primeOrNot():\n",
    "    n=int(input('value'))\n",
    "    if n>1:\n",
    "        for i  in range(2,n//2+1):\n",
    "            if n%i==0:\n",
    "                print(n,'not a prime')\n",
    "                break\n",
    "        else:\n",
    "            print(n,'is prime number')\n",
    "    else:\n",
    "        print(n,'is not a prime number')\n",
    "for i in range(1,8):\n",
    "    primeOrNot()"
   ]
  },
  {
   "cell_type": "code",
   "execution_count": 27,
   "metadata": {},
   "outputs": [
    {
     "name": "stdout",
     "output_type": "stream",
     "text": [
      "performing addition operation\n",
      "a is value is 23\n",
      "b is value is 45\n",
      "a+b value is 68\n"
     ]
    }
   ],
   "source": [
    "def add(a,b):\n",
    "    print('performing addition operation')\n",
    "    print('a is value is',a)\n",
    "    print('b is value is',b)\n",
    "    print('a+b value is',a + b)\n",
    "add(23,45)\n",
    "\n"
   ]
  },
  {
   "cell_type": "code",
   "execution_count": 34,
   "metadata": {},
   "outputs": [
    {
     "name": "stdout",
     "output_type": "stream",
     "text": [
      "a  value is 45\n",
      "b value is  68\n",
      "a+b value is 113\n"
     ]
    }
   ],
   "source": [
    "def add(a,b):\n",
    "    print('a  value is',a)\n",
    "    print('b value is ',b)\n",
    "    print('a+b value is',a + b)\n",
    "add(a=45,b=68)\n"
   ]
  },
  {
   "cell_type": "code",
   "execution_count": 35,
   "metadata": {},
   "outputs": [
    {
     "name": "stdout",
     "output_type": "stream",
     "text": [
      "a value is  10\n",
      "b value is  20\n",
      "a+b value is  30\n"
     ]
    }
   ],
   "source": [
    "def add(*,a,b):\n",
    "    print('a value is ',a)\n",
    "    print('b value is ',b)\n",
    "    print('a+b value is ',a+b)\n",
    "add(a=10,b=20)"
   ]
  },
  {
   "cell_type": "code",
   "execution_count": 4,
   "metadata": {},
   "outputs": [
    {
     "name": "stdout",
     "output_type": "stream",
     "text": [
      "False\n"
     ]
    }
   ],
   "source": [
    "#wap to check given number is even or not by using functions\n",
    "def iseven(n):\n",
    "    if n%2==0:\n",
    "        return False\n",
    "    else:\n",
    "        return True\n",
    "print(iseven(10))"
   ]
  },
  {
   "cell_type": "code",
   "execution_count": 1,
   "metadata": {},
   "outputs": [
    {
     "ename": "NameError",
     "evalue": "name 'iseven' is not defined",
     "output_type": "error",
     "traceback": [
      "\u001b[1;31m---------------------------------------------------------------------------\u001b[0m",
      "\u001b[1;31mNameError\u001b[0m                                 Traceback (most recent call last)",
      "Cell \u001b[1;32mIn[1], line 6\u001b[0m\n\u001b[0;32m      4\u001b[0m         \u001b[38;5;28;01mif\u001b[39;00m iseven(n):\n\u001b[0;32m      5\u001b[0m             \u001b[38;5;28mprint\u001b[39m(n)\n\u001b[1;32m----> 6\u001b[0m \u001b[43mevennumber\u001b[49m\u001b[43m(\u001b[49m\u001b[38;5;241;43m2\u001b[39;49m\u001b[43m,\u001b[49m\u001b[38;5;241;43m20\u001b[39;49m\u001b[43m)\u001b[49m\n",
      "Cell \u001b[1;32mIn[1], line 4\u001b[0m, in \u001b[0;36mevennumber\u001b[1;34m(ll, ul)\u001b[0m\n\u001b[0;32m      2\u001b[0m \u001b[38;5;28;01mdef\u001b[39;00m \u001b[38;5;21mevennumber\u001b[39m(ll,ul):\n\u001b[0;32m      3\u001b[0m     \u001b[38;5;28;01mfor\u001b[39;00m n \u001b[38;5;129;01min\u001b[39;00m \u001b[38;5;28mrange\u001b[39m(ll,ul\u001b[38;5;241m+\u001b[39m\u001b[38;5;241m1\u001b[39m):\n\u001b[1;32m----> 4\u001b[0m         \u001b[38;5;28;01mif\u001b[39;00m \u001b[43miseven\u001b[49m(n):\n\u001b[0;32m      5\u001b[0m             \u001b[38;5;28mprint\u001b[39m(n)\n",
      "\u001b[1;31mNameError\u001b[0m: name 'iseven' is not defined"
     ]
    }
   ],
   "source": [
    "#wap to check given number is even number in given range by using functions\n",
    "def evennumber(ll,ul):\n",
    "    for n in range(ll,ul+1):\n",
    "        if iseven(n):\n",
    "            print(n)\n",
    "evennumber(2,20)"
   ]
  }
 ],
 "metadata": {
  "kernelspec": {
   "display_name": "Python 3",
   "language": "python",
   "name": "python3"
  },
  "language_info": {
   "codemirror_mode": {
    "name": "ipython",
    "version": 3
   },
   "file_extension": ".py",
   "mimetype": "text/x-python",
   "name": "python",
   "nbconvert_exporter": "python",
   "pygments_lexer": "ipython3",
   "version": "3.12.2"
  }
 },
 "nbformat": 4,
 "nbformat_minor": 2
}
