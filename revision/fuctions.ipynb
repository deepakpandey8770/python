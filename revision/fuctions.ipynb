{
 "cells": [
  {
   "cell_type": "markdown",
   "metadata": {},
   "source": [
    "1. *arguments*: arguments are the essential parameters which are requried by the function for thair execution\n",
    "2. there are 5 types of arguments:\n",
    "11. positional or mandatory arguments \n",
    "12. keyword arguments \n",
    "13. default arguments or non-mandatory\n",
    "14. variable length arguments (* args)\n",
    "15. variable length arguments (**kwargs)"
   ]
  },
  {
   "cell_type": "code",
   "execution_count": 1,
   "metadata": {},
   "outputs": [
    {
     "name": "stdout",
     "output_type": "stream",
     "text": [
      "2\n",
      "4\n",
      "6\n"
     ]
    }
   ],
   "source": [
    "#positional (or) mandatory arguments \n",
    "def add(a,b):\n",
    "    print (a)\n",
    "    print(b)\n",
    "    print(a+b)\n",
    "add(2,4)"
   ]
  },
  {
   "cell_type": "code",
   "execution_count": 3,
   "metadata": {},
   "outputs": [
    {
     "name": "stdout",
     "output_type": "stream",
     "text": [
      "2\n",
      "3\n",
      "5\n"
     ]
    }
   ],
   "source": [
    "#keyword arguments\n",
    "def add(a,b):\n",
    "    print(a)\n",
    "    print(b)\n",
    "    print(a+b)\n",
    "add(a=2,b=3)"
   ]
  },
  {
   "cell_type": "code",
   "execution_count": 4,
   "metadata": {},
   "outputs": [
    {
     "name": "stdout",
     "output_type": "stream",
     "text": [
      "1\n",
      "5\n",
      "6\n"
     ]
    }
   ],
   "source": [
    "# default arguments\n",
    "def add (a=1,b=3):\n",
    "    print(a)\n",
    "    print(b)\n",
    "    print(a+b)\n",
    "add(b=5)#deafult argument is 1\n"
   ]
  },
  {
   "cell_type": "code",
   "execution_count": 30,
   "metadata": {},
   "outputs": [
    {
     "name": "stdout",
     "output_type": "stream",
     "text": [
      "(10, 20, 'hai', 40)\n",
      "70\n"
     ]
    }
   ],
   "source": [
    "# variable length arguments\n",
    "def add(*args):\n",
    "    print(args)\n",
    "    summ=0\n",
    "    for i in args:\n",
    "        if isinstance(i,int):\n",
    "            summ+=i\n",
    "    print(summ)\n",
    "add(10,20,'hai',40)"
   ]
  },
  {
   "cell_type": "code",
   "execution_count": 32,
   "metadata": {},
   "outputs": [
    {
     "name": "stdout",
     "output_type": "stream",
     "text": [
      "{'a': 10, 'b': 20}\n",
      "30\n"
     ]
    }
   ],
   "source": [
    "# variable length keyword arguments\n",
    "def add(**kwargs):\n",
    "    print(kwargs)\n",
    "    summ=0\n",
    "    for k,v in kwargs.items():\n",
    "        if isinstance(v,int):\n",
    "            summ+=v\n",
    "    print(summ)\n",
    "add(a=10,b=20)"
   ]
  }
 ],
 "metadata": {
  "kernelspec": {
   "display_name": "Python 3",
   "language": "python",
   "name": "python3"
  },
  "language_info": {
   "codemirror_mode": {
    "name": "ipython",
    "version": 3
   },
   "file_extension": ".py",
   "mimetype": "text/x-python",
   "name": "python",
   "nbconvert_exporter": "python",
   "pygments_lexer": "ipython3",
   "version": "3.12.2"
  }
 },
 "nbformat": 4,
 "nbformat_minor": 2
}
