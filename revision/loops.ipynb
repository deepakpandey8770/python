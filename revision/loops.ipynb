#for loop with string
s='hello'
for i in s:
    print(i)