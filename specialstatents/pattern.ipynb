{
 "cells": [
  {
   "cell_type": "code",
   "execution_count": 2,
   "metadata": {},
   "outputs": [
    {
     "name": "stdout",
     "output_type": "stream",
     "text": [
      "*****\n",
      "*****\n",
      "*****\n",
      "*****\n",
      "*****\n"
     ]
    }
   ],
   "source": [
    "n=int(input('value'))\n",
    "for row in range (1,n+1):\n",
    "    for col in range(1,n+1):\n",
    "        print('*',end='')\n",
    "    print()"
   ]
  },
  {
   "cell_type": "code",
   "execution_count": 8,
   "metadata": {},
   "outputs": [
    {
     "name": "stdout",
     "output_type": "stream",
     "text": [
      "*         \n",
      "  *       \n",
      "    *     \n",
      "      *   \n",
      "        * \n"
     ]
    }
   ],
   "source": [
    "#wap to print diagonal pattern\n",
    "n=int(input('value'))\n",
    "for row in range (1,n+1):\n",
    "    for col in range(1,n+1):\n",
    "        if row==col:\n",
    "            print('*',end=' ')\n",
    "        else:\n",
    "            print(' ', end=' ')\n",
    "    print()"
   ]
  },
  {
   "cell_type": "markdown",
   "metadata": {},
   "source": [
    "1. taking for loop with range for rows\n",
    "2. taking for loop with range fro cols\n",
    "3. and taking condition if row ==col is satisfied then print * else skip the conditon and print ' ' \n",
    "4. at last we are using print for changing the row after compliation of loop\n",
    "5. tking input as 5\n",
    "6. iterations.... \n",
    "7. iterations1>>>  loop running 1st time and check the condition row and  col are equal or not......so it is equal so print *\n",
    "8. iterations2>>>> loop running 2nd time and check the conditon row and  col are equla or not........so it is equal so print *\n",
    "9. iterations3>>>>loop  running 3rd time and  check the conditon row and col are equal or not.........so it is equal so print*\n",
    "10. iterations4>>> loop running  4th time and check the conditon row and col are equal or not ..........so it is equal so print*\n",
    "11. iterations5>>>loop running 5th time and check the condition row and col are equal or not ...........so it is equal so print*\n",
    "\n"
   ]
  },
  {
   "cell_type": "code",
   "execution_count": 11,
   "metadata": {},
   "outputs": [
    {
     "name": "stdout",
     "output_type": "stream",
     "text": [
      "        * \n",
      "      *   \n",
      "    *     \n",
      "  *       \n",
      "*         \n"
     ]
    }
   ],
   "source": [
    "#wap to print reverse diagonal\n",
    "n=int(input('value'))\n",
    "for row in range (1,n+1):\n",
    "    for col in range(1,n+1):\n",
    "        if row + col == n+1:\n",
    "            print('*',end=' ')\n",
    "        else:\n",
    "            print(' ',end=' ')\n",
    "    print()"
   ]
  },
  {
   "cell_type": "markdown",
   "metadata": {},
   "source": [
    "1. taking input from user \n",
    "2. taking for loop for rows \n",
    "3. taking for loop for cols\n",
    "4. taking if condition to check row+col==n+1 or not\n",
    "5. if condition satisfied then print * else print ' '\n",
    "6. at last print is used for print in next line\n",
    "7. taking input as 5\n",
    "8. executions......\n",
    "9. iteration1>>> loop run 1st time and check the conditon 1+5==6 or not ....so it is satisfied the conditon *so print *\n",
    "10. iteration2>>> loop run 2nd time and check the conditon2+4==6 or not....so it is satisfied the condition so print * \n",
    "11. iteration3>>> loop run 3rd time and check the conditon 3+3==6 or not....so it is satisified the condition so print *\n",
    "12. iteration4>>> loop run 4th time and check the condition 4+2==6 or not... so it is satisfied the condition so print *\n",
    "13. iteration5>> loop run 5th time and check the condition 5+1===6 or not... so it is satisfied the condition so print *"
   ]
  },
  {
   "cell_type": "code",
   "execution_count": 12,
   "metadata": {},
   "outputs": [
    {
     "name": "stdout",
     "output_type": "stream",
     "text": [
      "*       * \n",
      "  *   *   \n",
      "    *     \n",
      "  *   *   \n",
      "*       * \n"
     ]
    }
   ],
   "source": [
    "#wap to print X pattern \n",
    "n=int(input('value'))\n",
    "for row in range(1,n+1):\n",
    "    for col in range(1,n+1):\n",
    "        if  row==col or row +col==n+1:\n",
    "            print('*', end=' ')\n",
    "        else:\n",
    "            print(' ',end=' ')\n",
    "    print()"
   ]
  },
  {
   "cell_type": "markdown",
   "metadata": {},
   "source": [
    "1. taking input form user\n",
    "2. taking for loop for rows \n",
    "3. taking for loop for col\n",
    "4. taking if conditon and checking row==col or row+col==n+1 or not if conditon satisfied than print * else print ' '\n",
    "5. at last print is used for next line\n",
    "6. itearations......\n",
    "7. iteration1>>>> loop is running 1st time and check the condition 1==1 or 1+5==6 or not ...so condition satisfied so print  *     *\n",
    "8. iteration2>>>> loop is running 2nd time and check the condition  2==2 or 2+4==6 or not... so condition satisfied so print  *  * \n",
    "9. iteration3>>> loop is running 3rd time and check the condition 3==3 or 3+3=6 or not... so condition satisfied so print       *\n",
    "10. iteration4>>>loop is running 4th time and check the condition 4==4 or 4+2=6 or not... so condition satisfied so print     *   *\n",
    "11. iteration5>>> loop is running 5th time and check the condition 5==5 or 5+1=6 or not... so condition satisfied so print  *       *"
   ]
  },
  {
   "cell_type": "code",
   "execution_count": 13,
   "metadata": {},
   "outputs": [
    {
     "name": "stdout",
     "output_type": "stream",
     "text": [
      "*         \n",
      "* *       \n",
      "* * *     \n",
      "* * * *   \n",
      "* * * * * \n"
     ]
    }
   ],
   "source": [
    "#wap to print right angle triangle pattern\n",
    "n=int(input('value'))\n",
    "for row in range(1,n+1):\n",
    "    for col in range(1,n+1):\n",
    "        if row>=col:\n",
    "            print('*',end=' ')\n",
    "        else:\n",
    "            print(' ',end=' ')\n",
    "    print()\n"
   ]
  },
  {
   "cell_type": "code",
   "execution_count": 32,
   "metadata": {},
   "outputs": [
    {
     "name": "stdout",
     "output_type": "stream",
     "text": [
      "        * \n",
      "      * * \n",
      "    * * * \n",
      "  * * * * \n",
      "* * * * * \n"
     ]
    }
   ],
   "source": [
    "#wap to print right angle triangle\n",
    "\n",
    "n=int(input('value'))\n",
    "for row in range(1,n+1):\n",
    "    for col in range(1,n+1):\n",
    "        if row+col>=n+1:\n",
    "            print('*',end=' ')\n",
    "        else:\n",
    "            print(' ',end=' ')\n",
    "    print()\n"
   ]
  },
  {
   "cell_type": "code",
   "execution_count": 35,
   "metadata": {},
   "outputs": [
    {
     "name": "stdout",
     "output_type": "stream",
     "text": [
      "* * * * * \n",
      "  * * * * \n",
      "    * * * \n",
      "      * * \n",
      "        * \n"
     ]
    }
   ],
   "source": [
    "n=int(input('value'))\n",
    "for row in range(1,n+1):\n",
    "    for col in range(1,n+1):\n",
    "        if row<=col:\n",
    "            print('*',end=' ')\n",
    "        else:\n",
    "            print(' ',end=' ')\n",
    "    print()\n"
   ]
  },
  {
   "cell_type": "code",
   "execution_count": 36,
   "metadata": {},
   "outputs": [
    {
     "name": "stdout",
     "output_type": "stream",
     "text": [
      "* * * * * \n",
      "* * * *   \n",
      "* * *     \n",
      "* *       \n",
      "*         \n"
     ]
    }
   ],
   "source": [
    "n=int(input('value'))\n",
    "for row in range(1,n+1):\n",
    "    for col in range(1,n+1):\n",
    "        if row+col<=n+1:\n",
    "            print('*',end=' ')\n",
    "        else:\n",
    "            print(' ',end=' ')\n",
    "    print()"
   ]
  },
  {
   "cell_type": "code",
   "execution_count": 38,
   "metadata": {},
   "outputs": [
    {
     "name": "stdout",
     "output_type": "stream",
     "text": [
      "* \n",
      " * \n",
      "  * \n",
      "   * \n",
      "    * \n"
     ]
    }
   ],
   "source": [
    "n=int(input('value'))\n",
    "space=0\n",
    "star=1\n",
    "for row in range(1,n+1):\n",
    "    for sp in range(1,space+1):\n",
    "        print('',end=' ')\n",
    "    for st in range(1,star+1):\n",
    "            print('*',end=' ')\n",
    "    print()\n",
    "    space+=1\n",
    "            "
   ]
  },
  {
   "cell_type": "code",
   "execution_count": 42,
   "metadata": {},
   "outputs": [
    {
     "name": "stdout",
     "output_type": "stream",
     "text": [
      "        * \n",
      "      * \n",
      "    * \n",
      "  * \n",
      "* \n"
     ]
    }
   ],
   "source": [
    "n=int(input('value'))\n",
    "star=1\n",
    "space=n-1\n",
    "for row in range(1,n+1):\n",
    "    for sp in range(1,space+1):\n",
    "        print(' ',end=' ')\n",
    "    for st in range(1,star+1):\n",
    "        print('*',end=' ')\n",
    "    print()\n",
    "    space-=1"
   ]
  },
  {
   "cell_type": "code",
   "execution_count": 2,
   "metadata": {},
   "outputs": [
    {
     "name": "stdout",
     "output_type": "stream",
     "text": [
      "* * * * * \n",
      "  * * * * \n",
      "    * * * \n",
      "      * * \n",
      "        * \n"
     ]
    }
   ],
   "source": [
    "n=int(input('value'))\n",
    "star =n\n",
    "space=0\n",
    "for row in range(1,n+1):\n",
    "    for sp in range(1,space+1):\n",
    "        print(' ',end=' ')\n",
    "    for st in range(1,star+1):\n",
    "        print('*',end=' ')\n",
    "    print()\n",
    "    space+=1\n",
    "    star-=1"
   ]
  },
  {
   "cell_type": "code",
   "execution_count": 3,
   "metadata": {},
   "outputs": [
    {
     "name": "stdout",
     "output_type": "stream",
     "text": [
      "    * \n",
      "  * * * \n",
      "* * * * * \n",
      "  * * * \n",
      "    * \n"
     ]
    }
   ],
   "source": [
    "n=int(input('value'))\n",
    "space=n//2\n",
    "star=1\n",
    "for row in range(1,n+1):\n",
    "    for sp in range(1,space+1):\n",
    "        print(' ',end=' ')\n",
    "    for st in range(1,star+1):\n",
    "        print('*',end=' ')\n",
    "    print()\n",
    "    if row<=n//2:\n",
    "        star+=2\n",
    "        space-=1\n",
    "    else:\n",
    "        star-=2\n",
    "        space+=1"
   ]
  },
  {
   "cell_type": "code",
   "execution_count": 14,
   "metadata": {},
   "outputs": [
    {
     "name": "stdout",
     "output_type": "stream",
     "text": [
      "* \n",
      "* * \n",
      "* * * \n",
      "* * \n",
      "* \n"
     ]
    }
   ],
   "source": [
    "n=int(input('Value'))\n",
    "star =1\n",
    "for row in range(1,n+1):\n",
    "    for st in range(1,star+1):\n",
    "        print('*',end=' ')\n",
    "    print()\n",
    "    if row<=n//2:\n",
    "        star+=1\n",
    "    else:\n",
    "        star-=1"
   ]
  },
  {
   "cell_type": "code",
   "execution_count": 16,
   "metadata": {},
   "outputs": [
    {
     "name": "stdout",
     "output_type": "stream",
     "text": [
      "    * \n",
      "  * * \n",
      "* * * \n",
      "  * * \n",
      "    * \n"
     ]
    }
   ],
   "source": [
    "n=int(input('value'))\n",
    "space=n//2\n",
    "star=1\n",
    "for row in range(1,n+1):\n",
    "    for sp in range(1,space+1):\n",
    "        print(' ',end=' ')\n",
    "    for st in range(1,star+1):\n",
    "        print('*',end=' ')\n",
    "    print()\n",
    "    if row <=n//2:\n",
    "        star+=1\n",
    "        space-=1\n",
    "    else:\n",
    "        star-=1\n",
    "        space+=1\n"
   ]
  },
  {
   "cell_type": "code",
   "execution_count": 20,
   "metadata": {},
   "outputs": [
    {
     "name": "stdout",
     "output_type": "stream",
     "text": [
      "1 1 1 1 1 \n",
      "2 2 2 2 2 \n",
      "3 3 3 3 3 \n",
      "4 4 4 4 4 \n",
      "5 5 5 5 5 \n"
     ]
    }
   ],
   "source": [
    "n=int(input('value'))\n",
    "dummy=1\n",
    "for row in range(1,n+1):\n",
    "    for col in range(1,n+1):\n",
    "        print(dummy,end=' ')\n",
    "    \n",
    "    print()\n",
    "    dummy+=1"
   ]
  },
  {
   "cell_type": "markdown",
   "metadata": {},
   "source": [
    "#21  in this patter colwise incrementation is happeing and value carried in next row  so\n",
    "we have to define variable outside the outer loop and incrementation in inner of outer loop"
   ]
  },
  {
   "cell_type": "code",
   "execution_count": 21,
   "metadata": {},
   "outputs": [
    {
     "name": "stdout",
     "output_type": "stream",
     "text": [
      "1 2 3 4 5 \n",
      "6 7 8 9 10 \n",
      "11 12 13 14 15 \n",
      "16 17 18 19 20 \n",
      "21 22 23 24 25 \n"
     ]
    }
   ],
   "source": [
    "n=int(input('value'))\n",
    "dummy=1\n",
    "for row in range(1,n+1):\n",
    "    for col in range(1,n+1):\n",
    "        print(dummy,end=' ')\n",
    "        dummy+=1\n",
    "    print()\n"
   ]
  },
  {
   "cell_type": "markdown",
   "metadata": {},
   "source": [
    "#23 in this patern colwise incrementation is happeing and value is reinitialized in next row so we have to take variable inside the outer loop and incrementation in inside the outer loop"
   ]
  },
  {
   "cell_type": "code",
   "execution_count": 23,
   "metadata": {},
   "outputs": [
    {
     "name": "stdout",
     "output_type": "stream",
     "text": [
      "1 2 3 4 5 \n",
      "1 2 3 4 5 \n",
      "1 2 3 4 5 \n",
      "1 2 3 4 5 \n",
      "1 2 3 4 5 \n"
     ]
    }
   ],
   "source": [
    "n=int(input('value'))\n",
    "for row in range(1,n+1):\n",
    "    dummy=1\n",
    "    for col in range(1,n+1):\n",
    "        print(dummy,end=' ')\n",
    "        dummy+=1\n",
    "    print()"
   ]
  },
  {
   "cell_type": "markdown",
   "metadata": {},
   "source": [
    "#27 in this pattern row wise incrementation is happening and value carried to next line so we have to take variable outside the outer loop and incrementation outside the outer loop"
   ]
  },
  {
   "cell_type": "code",
   "execution_count": 4,
   "metadata": {},
   "outputs": [
    {
     "name": "stdout",
     "output_type": "stream",
     "text": [
      "1 \n",
      "2 2 \n",
      "3 3 3 \n",
      "4 4 4 4 \n"
     ]
    }
   ],
   "source": [
    "n=int(input())\n",
    "star=1\n",
    "dummy=1\n",
    "for row in range(1,n+1):\n",
    "    for col in range(1,star+1):\n",
    "        print(dummy,end=' ')\n",
    "        \n",
    "    print()\n",
    "    star+=1\n",
    "    dummy+=1\n"
   ]
  },
  {
   "cell_type": "markdown",
   "metadata": {},
   "source": [
    "#28 in this code rowwise incrementation is happening and incremented value carred to next line \n",
    "so we have to take variable outside the outer loop and incrementation in inside the outer loop"
   ]
  },
  {
   "cell_type": "code",
   "execution_count": 28,
   "metadata": {},
   "outputs": [
    {
     "name": "stdout",
     "output_type": "stream",
     "text": [
      "1 \n",
      "2 3 \n",
      "4 5 6 \n",
      "7 8 9 10 \n",
      "11 12 13 14 15 \n"
     ]
    }
   ],
   "source": [
    "n=int(input('value'))\n",
    "star=1\n",
    "dummy=1\n",
    "for row in range(1,n+1):\n",
    "    for col in range(1,star+1):\n",
    "        print(dummy,end=' ')\n",
    "        dummy+=1\n",
    "    print()\n",
    "    star+=1"
   ]
  },
  {
   "cell_type": "markdown",
   "metadata": {},
   "source": [
    "in this code row  wise incrementation is happening and value carried to next line so we have to take variable outside the outer loop and incremenetation in inside the outer loop"
   ]
  },
  {
   "cell_type": "code",
   "execution_count": 29,
   "metadata": {},
   "outputs": [
    {
     "name": "stdout",
     "output_type": "stream",
     "text": [
      "        1 \n",
      "      2 3 \n",
      "    4 5 6 \n",
      "  7 8 9 10 \n",
      "11 12 13 14 15 \n"
     ]
    }
   ],
   "source": [
    "n=int(input())\n",
    "space=n-1\n",
    "star=1\n",
    "dummy=1\n",
    "for row in range(1,n+1):\n",
    "    for sp in range(1,space+1):\n",
    "        print(' ',end=' ')\n",
    "    for col in range(1,star+1):\n",
    "        print(dummy,end=' ')\n",
    "        dummy+=1\n",
    "    print()\n",
    "    star+=1\n",
    "    space-=1\n"
   ]
  },
  {
   "cell_type": "markdown",
   "metadata": {},
   "source": [
    "#32 in this patern colwise incrementation is happening and reinitialized with 1st row values\n",
    "so we have to take varialble inside the outer loop and incrementation is inside the outer loop"
   ]
  },
  {
   "cell_type": "code",
   "execution_count": 32,
   "metadata": {},
   "outputs": [
    {
     "name": "stdout",
     "output_type": "stream",
     "text": [
      "1 3 5 7 9 \n",
      "2 3 4 5 6 \n",
      "3 5 7 9 11 \n",
      "4 5 6 7 8 \n",
      "5 7 9 11 13 \n"
     ]
    }
   ],
   "source": [
    "n=int(input())\n",
    "for row in range(1,n+1):\n",
    "    dummy=row\n",
    "    for col in range(1,n+1):\n",
    "        print(dummy,end=' ')\n",
    "        if row%2==0:\n",
    "            dummy+=1\n",
    "        else:\n",
    "            dummy+=2\n",
    "    print()"
   ]
  },
  {
   "cell_type": "markdown",
   "metadata": {},
   "source": [
    "#33 in this patern colwise incrementation is happening and reinitiailized with 1st row value\n",
    "so we have to take variable inside the outer loop and incrementation in inside the outer loop"
   ]
  },
  {
   "cell_type": "code",
   "execution_count": 33,
   "metadata": {},
   "outputs": [
    {
     "name": "stdout",
     "output_type": "stream",
     "text": [
      "1 2 3 4 5 \n",
      "2 4 6 8 10 \n",
      "3 6 9 12 15 \n",
      "4 8 12 16 20 \n",
      "5 10 15 20 25 \n"
     ]
    }
   ],
   "source": [
    "n=int(input())\n",
    "for row in range(1,n+1):\n",
    "    dummy=row\n",
    "    for col in range(1,n+1):\n",
    "        print(dummy,end=' ')\n",
    "        dummy+=row\n",
    "    print()"
   ]
  },
  {
   "cell_type": "markdown",
   "metadata": {},
   "source": [
    "in this patern colwise incrementation is happeing and value carried to the next line\n",
    "so we have to take variable outside the outer loop and incremented value inside the loop"
   ]
  },
  {
   "cell_type": "code",
   "execution_count": 37,
   "metadata": {},
   "outputs": [
    {
     "name": "stdout",
     "output_type": "stream",
     "text": [
      "1 2 3 4 5 \n",
      "6 5 4 3 \n",
      "2 3 4 \n",
      "5 4 \n",
      "3 \n"
     ]
    }
   ],
   "source": [
    "n=int(input())\n",
    "dummy=1\n",
    "star=n\n",
    "for row in range(1,n+1):\n",
    "    for col in range(1,star+1):\n",
    "        print(dummy,end=' ')\n",
    "        if row %2==1:\n",
    "            dummy+=1\n",
    "        else:\n",
    "            dummy-=1\n",
    "    print()\n",
    "    star-=1\n",
    "\n"
   ]
  },
  {
   "cell_type": "markdown",
   "metadata": {},
   "source": [
    "in this patern col wise incrementation is happen and value reinitialized so we have to take varialble inside the outer loop and incrementation is inside the loop"
   ]
  },
  {
   "cell_type": "code",
   "execution_count": 43,
   "metadata": {},
   "outputs": [
    {
     "name": "stdout",
     "output_type": "stream",
     "text": [
      "        1 \n",
      "      1 2 3 \n",
      "    1 2 3 4 5 \n",
      "  1 2 3 4 5 6 7 \n",
      "1 2 3 4 5 6 7 8 9 \n"
     ]
    }
   ],
   "source": [
    "n=int(input())\n",
    "star=1\n",
    "space=n-1\n",
    "for row in range(1,n+1):\n",
    "    dummy=1\n",
    "    for sp in range(1,space+1):\n",
    "        print(' ',end=' ')\n",
    "    for st in range(1,star+1):\n",
    "        print(dummy,end=' ')\n",
    "        dummy+=1\n",
    "    print()\n",
    "    space-=1\n",
    "    star+=2"
   ]
  },
  {
   "cell_type": "code",
   "execution_count": 2,
   "metadata": {},
   "outputs": [
    {
     "name": "stdout",
     "output_type": "stream",
     "text": [
      "1 1 1 1 1 1 1 1 \n"
     ]
    }
   ],
   "source": [
    "n=int(input('value'))\n",
    "num=1\n",
    "dummy=1\n",
    "for rwo in range(1,n+1):\n",
    "    for col in range(num+1):\n",
    "        print(dummy,end=' ')\n",
    "print()\n",
    "num+=1\n",
    "dummy+=1"
   ]
  }
 ],
 "metadata": {
  "kernelspec": {
   "display_name": "Python 3",
   "language": "python",
   "name": "python3"
  },
  "language_info": {
   "codemirror_mode": {
    "name": "ipython",
    "version": 3
   },
   "file_extension": ".py",
   "mimetype": "text/x-python",
   "name": "python",
   "nbconvert_exporter": "python",
   "pygments_lexer": "ipython3",
   "version": "3.12.2"
  }
 },
 "nbformat": 4,
 "nbformat_minor": 2
}
